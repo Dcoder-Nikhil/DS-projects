{
 "cells": [
  {
   "cell_type": "markdown",
   "metadata": {},
   "source": [
    "# Text Emotions Classification using Python"
   ]
  },
  {
   "cell_type": "markdown",
   "metadata": {},
   "source": [
    "* Emotions dataset for NLP classification tasks\n",
    "\n",
    "1. Context\n",
    "Collection of documents and its emotions, It helps greatly in NLP Classification tasks\n",
    "\n",
    "2. Content\n",
    "List of documents with emotion flag, Dataset is split into train, test & validation for building the machine learning model\n",
    "\n",
    "Example :-\n",
    "i feel like I am still looking at a blank canvas blank pieces of paper;sadness\n",
    "\n",
    "4. Acknowledgements\n",
    "Thanks to Elvis - https://lnkd.in/eXJ8QVB & Hugging face team\n",
    "The technique to prepare the dataset - https://www.aclweb.org/anthology/D18-1404/\n",
    "\n",
    "5. Inspiration\n",
    "Dataset helps the community to develop emotion classification models with NLP based approach.\n",
    "\n",
    "Few questions your emotion classification model can answer based on your customer review\n",
    "\n",
    "What is the sentiment of your customer comment?\n",
    "What is the mood of today's special food ?"
   ]
  },
  {
   "cell_type": "code",
   "execution_count": null,
   "metadata": {},
   "outputs": [],
   "source": [
    "import pandas as pd\n",
    "import numpy as np\n",
    "import keras\n",
    "import tensorflow\n",
    "from keras.preprocessing.text import Tokenizer\n",
    "from tensorflow.keras.preprocessing.sequence import pad_sequences\n",
    "from sklearn.preprocessing import LabelEncoder\n",
    "from sklearn.model_selection import train_test_split\n",
    "from keras.models import Sequential\n",
    "from keras.layers import Embedding, Flatten, Dense"
   ]
  },
  {
   "cell_type": "code",
   "execution_count": null,
   "metadata": {},
   "outputs": [],
   "source": [
    "data = pd.read_csv(\"./Data/train.txt\", sep=';')\n",
    "data.columns = [\"Text\", \"Emotions\"]\n",
    "print(data.head())"
   ]
  },
  {
   "cell_type": "code",
   "execution_count": null,
   "metadata": {},
   "outputs": [],
   "source": []
  },
  {
   "cell_type": "code",
   "execution_count": null,
   "metadata": {},
   "outputs": [],
   "source": []
  }
 ],
 "metadata": {
  "kernelspec": {
   "display_name": "Python 3",
   "language": "python",
   "name": "python3"
  },
  "language_info": {
   "name": "python",
   "version": "3.12.3"
  }
 },
 "nbformat": 4,
 "nbformat_minor": 2
}
